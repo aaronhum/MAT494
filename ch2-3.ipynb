{
  "nbformat": 4,
  "nbformat_minor": 0,
  "metadata": {
    "colab": {
      "provenance": [],
      "authorship_tag": "ABX9TyMVNVad3NoWV6Rqa+15yTtI",
      "include_colab_link": true
    },
    "kernelspec": {
      "name": "python3",
      "display_name": "Python 3"
    },
    "language_info": {
      "name": "python"
    }
  },
  "cells": [
    {
      "cell_type": "markdown",
      "metadata": {
        "id": "view-in-github",
        "colab_type": "text"
      },
      "source": [
        "<a href=\"https://colab.research.google.com/github/aaronhum/MAT494/blob/main/ch2-3.ipynb\" target=\"_parent\"><img src=\"https://colab.research.google.com/assets/colab-badge.svg\" alt=\"Open In Colab\"/></a>"
      ]
    },
    {
      "cell_type": "markdown",
      "source": [
        "# Chapter 2 Probability\n",
        "## 2.3 Independent Variables and Random Samples\n",
        "\n",
        "### 2.3.2 Correlation and Dependence\n",
        "\n",
        "#### Example\n",
        "From: https://www.statology.org/correlation-in-python/\n",
        "\n"
      ],
      "metadata": {
        "id": "836DYgn_PceM"
      }
    },
    {
      "cell_type": "code",
      "source": [
        "import numpy as np\n",
        "\n",
        "np.random.seed(100)\n",
        "\n",
        "#create array of 50 random integers between 0 and 10\n",
        "var1 = np.random.randint(0, 10, 50)\n",
        "\n",
        "#create a positively correlated array with some random noise\n",
        "var2 = var1 + np.random.normal(0, 10, 50)\n",
        "\n",
        "#calculate the correlation between the two arrays\n",
        "np.corrcoef(var1, var2)"
      ],
      "metadata": {
        "colab": {
          "base_uri": "https://localhost:8080/"
        },
        "id": "yrAkAaOGPcFc",
        "outputId": "9d25c45a-397f-46e6-d58f-26acbe1d04bf"
      },
      "execution_count": 5,
      "outputs": [
        {
          "output_type": "execute_result",
          "data": {
            "text/plain": [
              "array([[1.       , 0.3350184],\n",
              "       [0.3350184, 1.       ]])"
            ]
          },
          "metadata": {},
          "execution_count": 5
        }
      ]
    },
    {
      "cell_type": "markdown",
      "source": [
        "### 2.3.3 Random Samples\n",
        "\n",
        "#### Example\n",
        "From: https://www.geeksforgeeks.org/python-random-sample-function/"
      ],
      "metadata": {
        "id": "TUDelgk7RX6Z"
      }
    },
    {
      "cell_type": "code",
      "source": [
        "# Simple implementation of the sample() function\n",
        "\n",
        "# import random \n",
        "from random import sample\n",
        "  \n",
        "# Prints list of random items of given length\n",
        "list1 = [1, 2, 3, 4, 5] \n",
        "  \n",
        "print(sample(list1,3))"
      ],
      "metadata": {
        "id": "7Rrax120SBd7",
        "colab": {
          "base_uri": "https://localhost:8080/"
        },
        "outputId": "db71b6c6-0002-4582-815d-23d6465d195e"
      },
      "execution_count": 6,
      "outputs": [
        {
          "output_type": "stream",
          "name": "stdout",
          "text": [
            "[2, 4, 1]\n"
          ]
        }
      ]
    },
    {
      "cell_type": "code",
      "source": [
        "# Basic use of sample() function.\n",
        "\n",
        "# import random \n",
        "import random\n",
        "  \n",
        "  \n",
        "# Prints list of random items of\n",
        "# length 3 from the given list.\n",
        "list1 = [1, 2, 3, 4, 5, 6] \n",
        "print(\"With list:\", random.sample(list1, 3))\n",
        "  \n",
        "# Prints list of random items of\n",
        "# length 4 from the given string. \n",
        "string = \"GeeksforGeeks\"\n",
        "print(\"With string:\", random.sample(string, 4))\n",
        "  \n",
        "# Prints list of random items of\n",
        "# length 4 from the given tuple.\n",
        "tuple1 = (\"ankit\", \"geeks\", \"computer\", \"science\",\n",
        "                   \"portal\", \"scientist\", \"btech\")\n",
        "print(\"With tuple:\", random.sample(tuple1, 4))\n",
        "  \n",
        "  \n",
        "# Prints list of random items of\n",
        "# length 3 from the given set.\n",
        "set1 = {\"a\", \"b\", \"c\", \"d\", \"e\"}\n",
        "print(\"With set:\", random.sample(set1, 3))"
      ],
      "metadata": {
        "colab": {
          "base_uri": "https://localhost:8080/"
        },
        "id": "B4NVqvB9SFKY",
        "outputId": "c5cbbf94-192b-4fe3-dc60-529e0118d301"
      },
      "execution_count": 7,
      "outputs": [
        {
          "output_type": "stream",
          "name": "stdout",
          "text": [
            "With list: [1, 3, 4]\n",
            "With string: ['f', 's', 'e', 's']\n",
            "With tuple: ['portal', 'ankit', 'computer', 'science']\n",
            "With set: ['b', 'a', 'd']\n"
          ]
        }
      ]
    }
  ]
}