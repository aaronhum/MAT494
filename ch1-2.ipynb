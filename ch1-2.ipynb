{
  "nbformat": 4,
  "nbformat_minor": 0,
  "metadata": {
    "colab": {
      "name": "ch1-2.ipynb",
      "provenance": []
    },
    "kernelspec": {
      "name": "python3",
      "display_name": "Python 3"
    },
    "language_info": {
      "name": "python"
    }
  },
  "cells": [
    {
      "cell_type": "markdown",
      "source": [
        "# Chapter 1 Linear Algebra\n",
        "## 1.2 Elements of Linear Algebra\n",
        "\n",
        "### 1.2.1.1 Linear Combinations\n",
        "From the slides:\n",
        "\"\n",
        "A linear combination in linear algebra is a new vector constructed from a\n",
        "subset by multiplying each vector by a constant and adding the results. A\n",
        "linear subspace is a result of linear combination.\n",
        "Definition 1.2.1 (Linear subspace) A linear subspace of V is a subset U ⊆ V\n",
        "that is closed under vector addition and scalar multiplication. That is, for all\n",
        "u1, u2 ∈ U and\n",
        "α ∈ R, it holds that\n",
        "> u1 + u2 ∈ U, and\n",
        "α u1 ∈ U. \n",
        "\"\n",
        "#### Example 1\n",
        "The vector y = (1.11, 2.22, 3.33) can be written as a linear combination of the unit vectors (0,0,1), (0,1,0) and (1,0,0):\n"
      ],
      "metadata": {
        "id": "M1nb-J3C9vQO"
      }
    },
    {
      "cell_type": "code",
      "execution_count": 14,
      "metadata": {
        "colab": {
          "base_uri": "https://localhost:8080/"
        },
        "id": "H5P7ABjS9YgE",
        "outputId": "41d244a3-e020-4950-f985-c9a1849f5901"
      },
      "outputs": [
        {
          "output_type": "execute_result",
          "data": {
            "text/plain": [
              "array([1.11, 2.22, 3.33])"
            ]
          },
          "metadata": {},
          "execution_count": 14
        }
      ],
      "source": [
        "import numpy as np\n",
        "x = np.array([[0, 0, 1],\n",
        "              [0, 1, 0],\n",
        "              [1, 0, 0]])\n",
        "y = ([3.33, 2.22, 1.11])\n",
        "scalars = np.linalg.solve(x, y)\n",
        "scalars"
      ]
    },
    {
      "cell_type": "markdown",
      "source": [
        "#### Example 2\n",
        "The vector y = (1.23, 4.56, 7.89) can be written as a linear combination of the unit vectors (0,1,1), (1,1,0) and (1,0,1): "
      ],
      "metadata": {
        "id": "HMMESO2pAKV4"
      }
    },
    {
      "cell_type": "code",
      "source": [
        "x = np.array([[0, 1, 1],\n",
        "              [1, 1, 0],\n",
        "              [1, 0, 1]])\n",
        "y = ([7.89, 4.56, 1.23])\n",
        "scalars = np.linalg.solve(x, y)\n",
        "scalars"
      ],
      "metadata": {
        "colab": {
          "base_uri": "https://localhost:8080/"
        },
        "id": "l4z-mQDZAhGv",
        "outputId": "a765bdcd-bf32-40a1-dd9a-2bed183d641f"
      },
      "execution_count": 15,
      "outputs": [
        {
          "output_type": "execute_result",
          "data": {
            "text/plain": [
              "array([-1.05,  5.61,  2.28])"
            ]
          },
          "metadata": {},
          "execution_count": 15
        }
      ]
    },
    {
      "cell_type": "markdown",
      "source": [
        "### 1.2.2 Orthogonality\n",
        "\n",
        "### 1.2.2.1 Orthonormal Bases\n",
        "\n",
        "#### Example\n",
        "Getting the Orthogonal Vector of two vectors [[2, -4, 5]] and [[4, 10, 2]]\n",
        "\n"
      ],
      "metadata": {
        "id": "5TbFcuZnBAnl"
      }
    },
    {
      "cell_type": "code",
      "source": [
        "# declare the two vectors\n",
        "v1 = [[2, -4, 5]]\n",
        "v2 = [[4, 10, 2]]\n",
        "\n",
        "# get the transpose of v1\n",
        "v1_transpose = np.transpose(v1)\n",
        "\n",
        "# matrix multiply v2 and v1_transpose\n",
        "ortho_vector = np.dot(v2, v1_transpose)\n",
        "\n",
        "ortho_vector\n"
      ],
      "metadata": {
        "colab": {
          "base_uri": "https://localhost:8080/"
        },
        "id": "m0OCyYrZCl3u",
        "outputId": "352505b2-8296-4d39-eeb7-63e53ff1fd0d"
      },
      "execution_count": 16,
      "outputs": [
        {
          "output_type": "execute_result",
          "data": {
            "text/plain": [
              "array([[-22]])"
            ]
          },
          "metadata": {},
          "execution_count": 16
        }
      ]
    },
    {
      "cell_type": "markdown",
      "source": [
        "### 1.2.4 Eigenvalues and Eigenvectors\n",
        "\n",
        "#### Example \n",
        "Getting the eigenvalues and eigenvectors of an array  "
      ],
      "metadata": {
        "id": "ZV6gQGrkFC6Q"
      }
    },
    {
      "cell_type": "code",
      "source": [
        "# inital dec of the array\n",
        "array1 = np.array([[2, 3], [4, 1]]) \n",
        "\n",
        "# get the eigenvalues and eigenvectors from numpy\n",
        "w, v = np.linalg.eig(array1)\n",
        "\n",
        "# print results\n",
        "print(w)\n",
        "print(v)"
      ],
      "metadata": {
        "colab": {
          "base_uri": "https://localhost:8080/"
        },
        "id": "jWy-96LiFP6U",
        "outputId": "d60e0d72-53a8-4896-d883-0d649eac719a"
      },
      "execution_count": 17,
      "outputs": [
        {
          "output_type": "stream",
          "name": "stdout",
          "text": [
            "[ 5. -2.]\n",
            "[[ 0.70710678 -0.6       ]\n",
            " [ 0.70710678  0.8       ]]\n"
          ]
        }
      ]
    }
  ]
}