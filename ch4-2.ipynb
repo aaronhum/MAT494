{
  "nbformat": 4,
  "nbformat_minor": 0,
  "metadata": {
    "colab": {
      "provenance": [],
      "authorship_tag": "ABX9TyOyRLee0LHh0fWuPKVvrzQc",
      "include_colab_link": true
    },
    "kernelspec": {
      "name": "python3",
      "display_name": "Python 3"
    },
    "language_info": {
      "name": "python"
    }
  },
  "cells": [
    {
      "cell_type": "markdown",
      "metadata": {
        "id": "view-in-github",
        "colab_type": "text"
      },
      "source": [
        "<a href=\"https://colab.research.google.com/github/aaronhum/MAT494/blob/main/ch4-2.ipynb\" target=\"_parent\"><img src=\"https://colab.research.google.com/assets/colab-badge.svg\" alt=\"Open In Colab\"/></a>"
      ]
    },
    {
      "cell_type": "markdown",
      "source": [
        "# Chapter 4 Network Analysis\n",
        "\n",
        "## 4.2 Spectral Graph Bipartitioning\n",
        "#### Example \n",
        "from:\n",
        "https://stackoverflow.com/questions/46258657/spectral-clustering-a-graph-in-python"
      ],
      "metadata": {
        "id": "spNU8_PUd0qH"
      }
    },
    {
      "cell_type": "code",
      "execution_count": 6,
      "metadata": {
        "colab": {
          "base_uri": "https://localhost:8080/"
        },
        "id": "DppXY9OQdhfB",
        "outputId": "11c2ffa0-e378-4513-9a3d-0d83cde2488f"
      },
      "outputs": [
        {
          "output_type": "stream",
          "name": "stdout",
          "text": [
            "ground truth\n",
            "[0 0 0 0 0 0 0 0 0 1 0 0 0 0 1 1 0 0 1 0 1 0 1 1 1 1 1 1 1 1 1 1 1 1]\n"
          ]
        },
        {
          "output_type": "stream",
          "name": "stderr",
          "text": [
            "/usr/local/lib/python3.7/dist-packages/sklearn/utils/validation.py:598: FutureWarning: np.matrix usage is deprecated in 1.0 and will raise a TypeError in 1.2. Please convert to a numpy array with np.asarray. For more information see: https://numpy.org/doc/stable/reference/generated/numpy.matrix.html\n",
            "  FutureWarning,\n"
          ]
        },
        {
          "output_type": "stream",
          "name": "stdout",
          "text": [
            "spectral clustering\n",
            "[1 1 0 1 1 1 1 1 0 0 1 1 1 1 0 0 1 1 0 1 0 1 0 0 0 0 0 0 0 0 0 0 0 0]\n",
            "just for better-visualization: invert clusters (permutation)\n",
            "[0 0 1 0 0 0 0 0 1 1 0 0 0 0 1 1 0 0 1 0 1 0 1 1 1 1 1 1 1 1 1 1 1 1]\n",
            "0.7717250324254216\n",
            "0.7262625905568268\n"
          ]
        }
      ],
      "source": [
        "import numpy as np\n",
        "import networkx as nx\n",
        "from sklearn.cluster import SpectralClustering\n",
        "from sklearn import metrics\n",
        "np.random.seed(1)\n",
        "\n",
        "# Get your mentioned graph\n",
        "G = nx.karate_club_graph()\n",
        "\n",
        "# Get ground-truth: club-labels -> transform to 0/1 np-array\n",
        "#     (possible overcomplicated networkx usage here)\n",
        "gt_dict = nx.get_node_attributes(G, 'club')\n",
        "gt = [gt_dict[i] for i in G.nodes()]\n",
        "gt = np.array([0 if i == 'Mr. Hi' else 1 for i in gt])\n",
        "\n",
        "# Get adjacency-matrix as numpy-array\n",
        "adj_mat = nx.to_numpy_matrix(G)\n",
        "\n",
        "print('ground truth')\n",
        "print(gt)\n",
        "\n",
        "# Cluster\n",
        "sc = SpectralClustering(2, affinity='precomputed', n_init=100)\n",
        "sc.fit(adj_mat)\n",
        "\n",
        "# Compare ground-truth and clustering-results\n",
        "print('spectral clustering')\n",
        "print(sc.labels_)\n",
        "print('just for better-visualization: invert clusters (permutation)')\n",
        "print(np.abs(sc.labels_ - 1))\n",
        "\n",
        "# Calculate some clustering metrics\n",
        "print(metrics.adjusted_rand_score(gt, sc.labels_))\n",
        "print(metrics.adjusted_mutual_info_score(gt, sc.labels_))"
      ]
    }
  ]
}