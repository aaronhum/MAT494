{
  "nbformat": 4,
  "nbformat_minor": 0,
  "metadata": {
    "colab": {
      "provenance": [],
      "authorship_tag": "ABX9TyNIJgyHsGkLl6lk7ESkNFoI",
      "include_colab_link": true
    },
    "kernelspec": {
      "name": "python3",
      "display_name": "Python 3"
    },
    "language_info": {
      "name": "python"
    }
  },
  "cells": [
    {
      "cell_type": "markdown",
      "metadata": {
        "id": "view-in-github",
        "colab_type": "text"
      },
      "source": [
        "<a href=\"https://colab.research.google.com/github/aaronhum/MAT494/blob/main/ch4-1.ipynb\" target=\"_parent\"><img src=\"https://colab.research.google.com/assets/colab-badge.svg\" alt=\"Open In Colab\"/></a>"
      ]
    },
    {
      "cell_type": "markdown",
      "source": [
        "# Chapter 4 Network Analysis\n",
        "\n",
        "## 4.1 Laplacian Matrix\n",
        "#### Example \n",
        "from:\n",
        "https://stackoverflow.com/questions/34895970/buildin-a-sparse-2d-laplacian-matrix-using-scipy-modules"
      ],
      "metadata": {
        "id": "spNU8_PUd0qH"
      }
    },
    {
      "cell_type": "code",
      "execution_count": 5,
      "metadata": {
        "colab": {
          "base_uri": "https://localhost:8080/"
        },
        "id": "DppXY9OQdhfB",
        "outputId": "36299532-66b9-44ec-8aca-ecdb5215aa2b"
      },
      "outputs": [
        {
          "output_type": "stream",
          "name": "stdout",
          "text": [
            "[[-4.  1.  0.  1.  0.  0.  0.  0.  0.]\n",
            " [ 1. -4.  1.  0.  1.  0.  0.  0.  0.]\n",
            " [ 0.  1. -4.  1.  0.  1.  0.  0.  0.]\n",
            " [ 1.  0.  1. -4.  0.  0.  1.  0.  0.]\n",
            " [ 0.  1.  0.  0. -4.  1.  0.  1.  0.]\n",
            " [ 0.  0.  1.  0.  1. -4.  1.  0.  1.]\n",
            " [ 0.  0.  0.  1.  0.  1. -4.  1.  0.]\n",
            " [ 0.  0.  0.  0.  1.  0.  1. -4.  0.]\n",
            " [ 0.  0.  0.  0.  0.  1.  0.  0. -4.]]\n"
          ]
        }
      ],
      "source": [
        "import numpy as np\n",
        "from scipy import sparse\n",
        "\n",
        "nx, ny = 3, 3\n",
        "N  = nx*ny\n",
        "main_diag = np.ones(N)*-4.0\n",
        "side_diag = np.ones(N-1)\n",
        "side_diag[np.arange(1,N)%4==0] = 0\n",
        "up_down_diag = np.ones(N-3)\n",
        "diagonals = [main_diag,side_diag,side_diag,up_down_diag,up_down_diag]\n",
        "laplacian = sparse.diags(diagonals, [0, -1, 1,nx,-nx], format=\"csr\")\n",
        "print(laplacian.toarray())"
      ]
    }
  ]
}