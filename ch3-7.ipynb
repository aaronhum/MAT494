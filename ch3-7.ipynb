{
  "nbformat": 4,
  "nbformat_minor": 0,
  "metadata": {
    "colab": {
      "provenance": [],
      "authorship_tag": "ABX9TyMxJvKKQ3rZDcJKl3VFiG0Z",
      "include_colab_link": true
    },
    "kernelspec": {
      "name": "python3",
      "display_name": "Python 3"
    },
    "language_info": {
      "name": "python"
    }
  },
  "cells": [
    {
      "cell_type": "markdown",
      "metadata": {
        "id": "view-in-github",
        "colab_type": "text"
      },
      "source": [
        "<a href=\"https://colab.research.google.com/github/aaronhum/MAT494/blob/main/ch3-7.ipynb\" target=\"_parent\"><img src=\"https://colab.research.google.com/assets/colab-badge.svg\" alt=\"Open In Colab\"/></a>"
      ]
    },
    {
      "cell_type": "markdown",
      "source": [
        "# Chapter 3 Calculus and Optimization\n",
        "## 3.7 Neural Networks\n",
        "\n",
        "#### Example \n",
        "from: https://www.activestate.com/resources/quick-reads/how-to-create-a-neural-network-in-python-with-and-without-keras/\n"
      ],
      "metadata": {
        "id": "836DYgn_PceM"
      }
    },
    {
      "cell_type": "code",
      "source": [
        "# Import python libraries required in this example:\n",
        "import numpy as np\n",
        "from scipy.special import expit as activation_function\n",
        "from scipy.stats import truncnorm\n",
        "\n",
        "# DEFINE THE NETWORK\n",
        "\n",
        "# Generate random numbers within a truncated (bounded) \n",
        "# normal distribution:\n",
        "def truncated_normal(mean=0, sd=1, low=0, upp=10):\n",
        "    return truncnorm(\n",
        "        (low - mean) / sd, (upp - mean) / sd, loc=mean, scale=sd)\n",
        "\n",
        "# Create the ‘Nnetwork’ class and define its arguments:\n",
        "# Set the number of neurons/nodes for each layer\n",
        "# and initialize the weight matrices:  \n",
        "class Nnetwork:\n",
        "\n",
        "    def __init__(self, \n",
        "                 no_of_in_nodes, \n",
        "                 no_of_out_nodes, \n",
        "                 no_of_hidden_nodes,\n",
        "                 learning_rate):\n",
        "        self.no_of_in_nodes = no_of_in_nodes\n",
        "        self.no_of_out_nodes = no_of_out_nodes\n",
        "        self.no_of_hidden_nodes = no_of_hidden_nodes\n",
        "        self.learning_rate = learning_rate \n",
        "        self.create_weight_matrices()\n",
        "        \n",
        "    def create_weight_matrices(self):\n",
        "        \"\"\" A method to initialize the weight matrices of the neural network\"\"\"\n",
        "        rad = 1 / np.sqrt(self.no_of_in_nodes)\n",
        "        X = truncated_normal(mean=0, sd=1, low=-rad, upp=rad)\n",
        "        self.weights_in_hidden = X.rvs((self.no_of_hidden_nodes, \n",
        "                                       self.no_of_in_nodes))\n",
        "        rad = 1 / np.sqrt(self.no_of_hidden_nodes)\n",
        "        X = truncated_normal(mean=0, sd=1, low=-rad, upp=rad)\n",
        "        self.weights_hidden_out = X.rvs((self.no_of_out_nodes, \n",
        "                                        self.no_of_hidden_nodes))\n",
        "\n",
        "    def train(self, input_vector, target_vector):\n",
        "        pass # More work is needed to train the network\n",
        "            \n",
        "    def run(self, input_vector):\n",
        "        \"\"\"\n",
        "        running the network with an input vector 'input_vector'. \n",
        "        'input_vector' can be tuple, list or ndarray\n",
        "        \"\"\"\n",
        "        # Turn the input vector into a column vector:\n",
        "        input_vector = np.array(input_vector, ndmin=2).T\n",
        "        # activation_function() implements the expit function,\n",
        "        # which is an implementation of the sigmoid function:\n",
        "        input_hidden = activation_function(self.weights_in_hidden @   input_vector)\n",
        "        output_vector = activation_function(self.weights_hidden_out @ input_hidden)\n",
        "        return output_vector \n",
        "\n",
        "# RUN THE NETWORK AND GET A RESULT\n",
        "\n",
        "# Initialize an instance of the class:  \n",
        "simple_network = Nnetwork(no_of_in_nodes=2, \n",
        "                               no_of_out_nodes=2, \n",
        "                               no_of_hidden_nodes=4,\n",
        "                               learning_rate=0.6)\n",
        "\n",
        "# Run simple_network for arrays, lists and tuples with shape (2):\n",
        "# and get a result:\n",
        "simple_network.run([(3, 4)])"
      ],
      "metadata": {
        "id": "yrAkAaOGPcFc",
        "colab": {
          "base_uri": "https://localhost:8080/"
        },
        "outputId": "a4637744-9571-43f2-d4f6-9eed9e8ee91e"
      },
      "execution_count": 1,
      "outputs": [
        {
          "output_type": "execute_result",
          "data": {
            "text/plain": [
              "array([[0.60039686],\n",
              "       [0.5713311 ]])"
            ]
          },
          "metadata": {},
          "execution_count": 1
        }
      ]
    },
    {
      "cell_type": "code",
      "source": [
        "# Import python libraries required in this example:\n",
        "from keras.models import Sequential\n",
        "from keras.layers import Dense, Activation\n",
        "import numpy as np\n",
        "\n",
        "# Use numpy arrays to store inputs (x) and outputs (y):\n",
        "x = np.array([[0,0], [0,1], [1,0], [1,1]])\n",
        "y = np.array([[0], [1], [1], [0]]) \n",
        "\n",
        "# Define the network model and its arguments. \n",
        "# Set the number of neurons/nodes for each layer:\n",
        "model = Sequential()\n",
        "model.add(Dense(2, input_shape=(2,)))\n",
        "model.add(Activation('sigmoid'))\n",
        "model.add(Dense(1))\n",
        "model.add(Activation('sigmoid')) \n",
        "\n",
        "# Compile the model and calculate its accuracy:\n",
        "model.compile(loss='mean_squared_error', optimizer='sgd', metrics=['accuracy']) \n",
        "\n",
        "# Print a summary of the Keras model:\n",
        "model.summary()"
      ],
      "metadata": {
        "colab": {
          "base_uri": "https://localhost:8080/"
        },
        "id": "sjcy_NlgbWfm",
        "outputId": "15590721-cc9e-463d-da9b-2e6cc1f68207"
      },
      "execution_count": 2,
      "outputs": [
        {
          "output_type": "stream",
          "name": "stdout",
          "text": [
            "Model: \"sequential\"\n",
            "_________________________________________________________________\n",
            " Layer (type)                Output Shape              Param #   \n",
            "=================================================================\n",
            " dense (Dense)               (None, 2)                 6         \n",
            "                                                                 \n",
            " activation (Activation)     (None, 2)                 0         \n",
            "                                                                 \n",
            " dense_1 (Dense)             (None, 1)                 3         \n",
            "                                                                 \n",
            " activation_1 (Activation)   (None, 1)                 0         \n",
            "                                                                 \n",
            "=================================================================\n",
            "Total params: 9\n",
            "Trainable params: 9\n",
            "Non-trainable params: 0\n",
            "_________________________________________________________________\n"
          ]
        }
      ]
    }
  ]
}