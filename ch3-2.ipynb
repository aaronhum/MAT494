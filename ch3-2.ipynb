{
  "nbformat": 4,
  "nbformat_minor": 0,
  "metadata": {
    "colab": {
      "provenance": [],
      "authorship_tag": "ABX9TyMJr8BXDq2uKCUwoj69FUMB",
      "include_colab_link": true
    },
    "kernelspec": {
      "name": "python3",
      "display_name": "Python 3"
    },
    "language_info": {
      "name": "python"
    }
  },
  "cells": [
    {
      "cell_type": "markdown",
      "metadata": {
        "id": "view-in-github",
        "colab_type": "text"
      },
      "source": [
        "<a href=\"https://colab.research.google.com/github/aaronhum/MAT494/blob/main/ch3-2.ipynb\" target=\"_parent\"><img src=\"https://colab.research.google.com/assets/colab-badge.svg\" alt=\"Open In Colab\"/></a>"
      ]
    },
    {
      "cell_type": "markdown",
      "source": [
        "# Chapter 3 Calculus and Optimization\n",
        "## 3.2 Continuity and Differentiation \n",
        "#### 3.2 Limits and Continuity\n",
        "\n",
        "#### Example: limit y->0 = sin(2y)/y\n",
        "From: https://www.askpython.com/python/examples/calculus-in-python\n"
      ],
      "metadata": {
        "id": "836DYgn_PceM"
      }
    },
    {
      "cell_type": "code",
      "source": [
        "import sympy as sp\n",
        "y=sp.Symbol('y')\n",
        "f=sp.sin(2*y)/y\n",
        "L=sp.limit(f,y,0)\n",
        "print(\"The limit is:\",L)"
      ],
      "metadata": {
        "id": "yrAkAaOGPcFc",
        "colab": {
          "base_uri": "https://localhost:8080/"
        },
        "outputId": "0741090e-cda2-48c7-a4e0-08987bbbfb5f"
      },
      "execution_count": 1,
      "outputs": [
        {
          "output_type": "stream",
          "name": "stdout",
          "text": [
            "The limit is: 2\n"
          ]
        }
      ]
    },
    {
      "cell_type": "markdown",
      "source": [],
      "metadata": {
        "id": "fH_ZDD3i2vn-"
      }
    },
    {
      "cell_type": "markdown",
      "source": [
        "### 3.2.2 Derivatives\n",
        "\n",
        "#### Example: f(x) = sin(x) + x^2 + e^4x\n",
        "from: https://www.askpython.com/python/examples/calculus-in-python"
      ],
      "metadata": {
        "id": "bSYPNGvA5mwG"
      }
    },
    {
      "cell_type": "code",
      "source": [
        "import sympy as sp\n",
        "x=sp.Symbol('x')\n",
        "f=sp.sin(x)+x**2+sp.exp(4*x)\n",
        "print(f)\n",
        "df=sp.diff(f,x)\n",
        "print(df)\n",
        "ddf=sp.diff(f,x,2)\n",
        "print(ddf)"
      ],
      "metadata": {
        "colab": {
          "base_uri": "https://localhost:8080/"
        },
        "id": "LpR7Zm_W58Ae",
        "outputId": "54e16b7a-f157-4135-d50f-770cc955ca48"
      },
      "execution_count": 2,
      "outputs": [
        {
          "output_type": "stream",
          "name": "stdout",
          "text": [
            "x**2 + exp(4*x) + sin(x)\n",
            "2*x + 4*exp(4*x) + cos(x)\n",
            "16*exp(4*x) - sin(x) + 2\n"
          ]
        }
      ]
    }
  ]
}